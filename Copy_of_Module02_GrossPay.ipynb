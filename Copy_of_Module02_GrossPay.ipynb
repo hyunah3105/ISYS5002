{
  "nbformat": 4,
  "nbformat_minor": 0,
  "metadata": {
    "colab": {
      "name": "Copy of Module02_GrossPay.ipynb",
      "provenance": [],
      "include_colab_link": true
    },
    "kernelspec": {
      "name": "python3",
      "display_name": "Python 3"
    },
    "language_info": {
      "name": "python"
    }
  },
  "cells": [
    {
      "cell_type": "markdown",
      "metadata": {
        "id": "view-in-github",
        "colab_type": "text"
      },
      "source": [
        "<a href=\"https://colab.research.google.com/github/hyunah3105/ISYS5002/blob/main/Copy_of_Module02_GrossPay.ipynb\" target=\"_parent\"><img src=\"https://colab.research.google.com/assets/colab-badge.svg\" alt=\"Open In Colab\"/></a>"
      ]
    },
    {
      "cell_type": "markdown",
      "source": [
        "# Problem Solving Methodology\n",
        "\n",
        "> “The biggest mistake I see new programmers make is focusing on learning syntax instead of learning how to solve problems.” \n",
        ">\n",
        "> — V. Anton Spraul, Think Like a Programmer: An Introduction to Creative Problem solving\n",
        "\n",
        "Problem solving is process the helps people identify and solve problem sin their lives.  It is important to have a consistent approach to solving problems, a aprroach that is general enough to work for any problem.  The problem solving technique that we present here can be tailored to solve problems in other areas. However is todes assume tht we are using a computer to help solve the problems.\n",
        "\n",
        "The process of problem solving we will use can be broken down into 6 key steps:\n",
        "1. State the problem clearly\n",
        "2. Describe the input and output information\n",
        "3. Work the problem by hand\n",
        "4. Develop an algorithm / pseudocode\n",
        "5. Convert pseudoce to Python program code\n",
        "6. Test solution with a variety of data"
      ],
      "metadata": {
        "id": "0hNqXt62Y2tk"
      }
    },
    {
      "cell_type": "markdown",
      "source": [
        "# *Assume you were asked to create a program to calculate and display the gross pay for an hourly paid employee.*"
      ],
      "metadata": {
        "id": "tmgdzH1cYcvd"
      }
    },
    {
      "cell_type": "markdown",
      "source": [
        "# 1. Problem Statement\n",
        "\n",
        "The first step is to state the problem clearly.  It is extremley important to give clear, concise problem statement to avoid any misunderstandings.  For this example, the problem statement is as follows:\n",
        "\n",
        "> Compute the gross pay of hourly paid employee. Then display the calculated gross pay\n",
        "\n",
        "\n",
        "# 2. Input/Output Description\n",
        "\n",
        "The second step is to describe carefully the information that is given to solve the problem and then identify the values to be computed.  These items represent the input and output for the problem and collectively can be called inputoutput or I/O.  At this point we have not defined any processing steps so we will represent the program as a box.  The **I/O diagram** for this example is as follows:\n",
        "\n",
        "```\n",
        "            +-----------+\n",
        "            |           |\n",
        " INPUT ---> | Algorithm | ---> OUTPUT\n",
        "            |           |\n",
        "            ------------+\n",
        "```\n",
        "\n",
        "\n",
        "Another way to look at this is the problem is divided into three speerate sections:\n",
        "* Input -  a list of source data to the problem\n",
        "* Output - a list of output required\n",
        "* Processing - a list of actions needed to produce the outputs\n",
        "\n",
        "At this step we only know the Input and Outputs, but the three parts can be represented as a table:\n",
        "\n",
        "| Input         | Processing | Output        |\n",
        "|---------------|------------|---------------|\n",
        "| hours worked  |            | gross pay    |\n",
        "|               |            |              |\n",
        "| hourly pay rate|           |      |\n",
        "\n",
        "\n",
        "Inputs --> hours worked & hourly pay rate\n",
        "\n",
        "Processing:\n",
        "\n",
        "Output --> gross pay\n",
        "\n"
      ],
      "metadata": {
        "id": "9IACZkC2aKxx"
      }
    },
    {
      "cell_type": "markdown",
      "source": [
        "# 3. Work the Problem By Hand\n",
        "The third step is to work the problem by hand with a claculator using a simple set of data. This is a very important step and should not be skipped. Even for simple problem. If you cannot take a simple set of numbers and comput the output then your not ready to move on to the next step.\n",
        "\n",
        "\n",
        "Let's assume \n",
        "> hourly pay rate = $25 <br>\n",
        "> hours worked = 20\n",
        "\n",
        "Manually, by hand we compute the gross pay \n",
        "\n",
        "> $25 x 20\n",
        "\n",
        "and the gross pay is $500\n",
        "\n",
        "\n",
        "\n"
      ],
      "metadata": {
        "id": "q03rnOmCcYSC"
      }
    },
    {
      "cell_type": "markdown",
      "source": [
        "# 4. Develop an Algorithm/Pseudocode\n",
        "\n",
        "Here is our pseduocode:\n",
        "\n",
        "```\n",
        "Get the input data\n",
        "Calculate the gross pay\n",
        "Display the gross pay\n",
        "```\n",
        "\n",
        "\n",
        "\n",
        "\n",
        "\n",
        "\n",
        "\n",
        "\n",
        "\n",
        "\n",
        "\n"
      ],
      "metadata": {
        "id": "M-WWVX-nfe1p"
      }
    },
    {
      "cell_type": "markdown",
      "source": [
        "# 5. Convert Pseudocode into Python code\n"
      ],
      "metadata": {
        "id": "hJGzmGfugZpH"
      }
    },
    {
      "cell_type": "markdown",
      "source": [
        "# 6. Test solution with a variety of data"
      ],
      "metadata": {
        "id": "MIJrGYmXhY_a"
      }
    },
    {
      "cell_type": "code",
      "source": [
        "# Compute the gross pay of hourly paid employee. \n",
        "\n",
        "# Get the hourly pay\n",
        "\n",
        "hourly_pay = float(input(\"Enter the hourly pay: \"))  #convert here after Input\n",
        "\n",
        "# Get the hours worked\n",
        "\n",
        "hours_worked = input(\"Enter how many hours you worked: \")\n",
        "\n",
        "\n",
        "# let gross pay = hourly_pay * hours_worked\n",
        "\n",
        "#convert to int\n",
        "hourly_pay2 = int(hourly_pay)\n",
        "hours_worked2 = int(hours_worked)\n",
        "\n",
        "#calculating(multiply the hours worked by hourly pay)\n",
        "gross_pay = hourly_pay2 * hours_worked2\n",
        "\n",
        "# Display The gross pay is: gross pay\n",
        "\n",
        "print(\"The gross pay is \" ,gross_pay)\n",
        "print(\"The gross pay is $\" ,format(gross_pay,\".2f\"), sep='')"
      ],
      "metadata": {
        "id": "KwZ7ye2WlRDX",
        "colab": {
          "base_uri": "https://localhost:8080/"
        },
        "outputId": "acd257f5-2b7b-4662-fc7d-ed8dbfd025f9"
      },
      "execution_count": null,
      "outputs": [
        {
          "output_type": "stream",
          "name": "stdout",
          "text": [
            "Enter the hourly pay: 30\n",
            "Enter how many hours you worked: 15\n",
            "The gross pay is  450\n",
            "The gross pay is $450.00\n"
          ]
        }
      ]
    },
    {
      "cell_type": "code",
      "source": [
        ""
      ],
      "metadata": {
        "id": "vSJl25I5UCkX"
      },
      "execution_count": null,
      "outputs": []
    }
  ]
}
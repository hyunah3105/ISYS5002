{
  "cells": [
    {
      "cell_type": "markdown",
      "metadata": {
        "id": "view-in-github",
        "colab_type": "text"
      },
      "source": [
        "<a href=\"https://colab.research.google.com/github/hyunah3105/ISYS5002/blob/main/05_Working_with_Files.ipynb\" target=\"_parent\"><img src=\"https://colab.research.google.com/assets/colab-badge.svg\" alt=\"Open In Colab\"/></a>"
      ]
    },
    {
      "cell_type": "markdown",
      "metadata": {
        "id": "b5IJBQVMWWWZ"
      },
      "source": [
        "# **File Input & Output**\n",
        "For program to retain data between the times it is run, you must save the data\n",
        "- Data is saved to a file, typically on computer disk\n",
        "- Saved data can be retrieved and used at a later time\n",
        "\n",
        "“***Writing data to***”: saving data on a file\n",
        "<br>***Output file***: a file that data is written to\n",
        "<br>*“**Reading data from**”*: process of retrieving data from a file\n",
        "<br>***Input file***: a file from which data is read\n",
        "\n",
        "Three steps when a program uses a file\n",
        "- Open the file\n",
        "- Process the file\n",
        "- Close the file\n",
        "\n",
        "**Types of files**\n",
        "<br>\n",
        "- A **text file** is a sequence of characters\n",
        "- A **binary file** (for images, videos and more) is a sequence of bytes\n",
        "- First character in a text file or byte in a binary file is located at position 0\n",
        "  - In a file of n characters or bytes, the highest position number is n – 1 (**end-of-file marker**)\n",
        "- For each file you **open**, Python creates a **file object** that you’ll use to interact with the file\n",
        "\n",
        "\n",
        "**Comma-separated values (CSV) file**\n",
        "- CSV files are the most common format used for importing and exporting data from spreadsheets and databases.\n",
        "- CSV files are text files that have delimiters. A delimiter is a character that separates data values.\n",
        "\n"
      ]
    },
    {
      "cell_type": "markdown",
      "metadata": {
        "id": "p9aQsBRQxt7k"
      },
      "source": [
        "# Text File"
      ]
    },
    {
      "cell_type": "markdown",
      "source": [
        "## File `open` Function\n",
        "\n",
        "`file_variable = open(filename, mode)`\n",
        "\n",
        "**Mode**: string specifying how the file will be opened\n",
        "\n",
        "Example: reading only ('r'), writing ('w'), and appending ('a')\n",
        "\n",
        "\n",
        "https://www.w3schools.com/python/python_file_handling.asp"
      ],
      "metadata": {
        "id": "MfuOy9XdK7yR"
      }
    },
    {
      "cell_type": "code",
      "execution_count": 1,
      "metadata": {
        "id": "pIxETi9m8Ghq"
      },
      "outputs": [],
      "source": [
        "#open a file named customers.txt\n",
        "file = open(\"customers.txt\",\"w\")"
      ]
    },
    {
      "cell_type": "markdown",
      "metadata": {
        "id": "oO9aBCoBvb5x"
      },
      "source": [
        "### Writing Text File"
      ]
    },
    {
      "cell_type": "code",
      "execution_count": 17,
      "metadata": {
        "id": "LEdRqwURsHBb"
      },
      "outputs": [],
      "source": [
        "### Create a text file named accounts.txt for writing ###\n",
        "\n",
        "#open file in write mode\n",
        "file = open(\"accounts.txt\",\"w\")\n",
        "\n",
        "#write three customers names into the file\n",
        "file.write(\"David Jones\\n\")\n",
        "file.write(\"Hanna Noh\\n\")\n",
        "file.write(\"Taylor Swift\")\n",
        "#writes the items of a list to the file\n",
        "file.writelines(\"Katy Perry\\nJeniffer\")\n",
        "\n",
        "\n",
        "\n",
        "#close the file\n",
        "file.close()\n",
        "\n"
      ]
    },
    {
      "cell_type": "markdown",
      "source": [
        "### Reading Text File"
      ],
      "metadata": {
        "id": "qVEQ7k4WLeJ5"
      }
    },
    {
      "cell_type": "code",
      "execution_count": 14,
      "metadata": {
        "id": "JtZjegwUsUss",
        "colab": {
          "base_uri": "https://localhost:8080/"
        },
        "outputId": "11cc7c92-e7bf-4cf5-ea50-29f7b64ff383"
      },
      "outputs": [
        {
          "output_type": "stream",
          "name": "stdout",
          "text": [
            "David Jones\n",
            "\n",
            "Hanna Noh\n",
            "\n",
            "Taylor Swift\n"
          ]
        }
      ],
      "source": [
        "### Reading data from a text file - customers.txt ###\n",
        "\n",
        "#open file in read mode\n",
        "file = open(\"accounts.txt\",'r')\n",
        "\n",
        "#print the records read from the file\n",
        "print(file.readline())\n",
        "print(file.readline())\n",
        "#print each line iteratively\n",
        "for row in file:\n",
        "  print(row)\n",
        "\n",
        "#close file\n",
        "file.close()\n"
      ]
    },
    {
      "cell_type": "markdown",
      "metadata": {
        "id": "lmYx04AD6YnM"
      },
      "source": [
        "### Writing & Reading with the `with` statement\n",
        "\n",
        "- Acquires a resource and assigns its corresponding object to a variable\n",
        "- Allows the application to use the resource via that variable\n",
        "- Calls the resource object’s close method to release the resource\n",
        "\n",
        "Advantage of using a `with` statement with a file open is that when the `with` statement code block ends, the file closes.\n",
        "\n",
        "At the end of the with statement’s suite, the `with` statement *implicitly* calls the file object’s `close` method to close the file\n",
        "\n",
        "**Records**\n",
        "* 100 Jones 24.98 \n",
        "* 200 Doe 345.67 \n",
        "* 300 Williams 0.00 \n",
        "* 400 Stone -42.16 \n",
        "* 500 Rich 224.62"
      ]
    },
    {
      "cell_type": "code",
      "execution_count": 19,
      "metadata": {
        "id": "mc2NDGan6pQi"
      },
      "outputs": [],
      "source": [
        "### Write and reading from file using 'with' statement ###\n",
        "\n",
        "# Open file for writing and write records\n",
        "with open(\"accounts.txt\",'w') as account:\n",
        "  account.write(\"100 Jones 24.98\\n\")\n",
        "  account.write(\"200 Doe 345.67\\n\")\n",
        "  account.write(\"300 Williams 0.00\\n\")\n",
        "  account.write(\"400 Stone -42.16\\n\")\n",
        "  account.write(\"500 Rich 224.62\")\n",
        "    "
      ]
    },
    {
      "cell_type": "code",
      "source": [
        "### Reading from file ###\n",
        "with open(\"accounts.txt\",'r') as accountred:\n",
        "  print(f'{\"AccountID\":10} {\"Name\":10} {\"Balance\":10}')\n",
        "  \n",
        "  for record in accountred:\n",
        "    #print(record)\n",
        "\n",
        "    accountID,name,balance = record.split()\n",
        "    print(f'{accountID:10} {name:10} {balance:10}')"
      ],
      "metadata": {
        "id": "FCiqOGDUu6-t",
        "colab": {
          "base_uri": "https://localhost:8080/"
        },
        "outputId": "0b83c1db-c38d-42b9-d0d5-dad0e9514c97"
      },
      "execution_count": 27,
      "outputs": [
        {
          "output_type": "stream",
          "name": "stdout",
          "text": [
            "AccountID  Name       Balance   \n",
            "100        Jones      24.98     \n",
            "200        Doe        345.67    \n",
            "300        Williams   0.00      \n",
            "400        Stone      -42.16    \n",
            "500        Rich       224.62    \n"
          ]
        }
      ]
    },
    {
      "cell_type": "markdown",
      "source": [
        "# Module CSV"
      ],
      "metadata": {
        "id": "BieUazgSLMeI"
      }
    },
    {
      "cell_type": "markdown",
      "metadata": {
        "id": "KiOs3fgB9CD8"
      },
      "source": [
        "## Reading and Writing CSV file\n",
        "\n",
        "Text files work fine when we are referencing small amounts of information, but when we use larger amounts of data, adding structure helps in organizing and retrieving values. \n",
        "\n",
        "One common format found in business and social sciences alike (as well as any field concerned with data science) is the comma-separated values (CSV) format. \n",
        "\n",
        "**CSV files** are the most common format used for importing and exporting data from spreadsheets and databases. \n",
        "\n",
        "CSV files are text files that have delimiters.  A **delimiter** is a character that separates data values. \n",
        "\n",
        "You can explore CSV files in spreadsheet software (such as Microsoft Excel), which will remove delimiters (usually commas) and store data values in separate cells.\n",
        "\n",
        "\n",
        "One of the benefits of importing data files such as CSV files is the ability to read in a lot of data at once, parsing the data so your code can access individual values within the data. **By default, CSV files use commas (“,”) to separate data values**.\n",
        "\n"
      ]
    },
    {
      "cell_type": "markdown",
      "metadata": {
        "id": "-gWkazAAcPvU"
      },
      "source": [
        "Python **CSV module** provides functions for working with CSV files"
      ]
    },
    {
      "cell_type": "code",
      "execution_count": 43,
      "metadata": {
        "id": "RLTFUeGPDrfG"
      },
      "outputs": [],
      "source": [
        "### Writing to a CSV file ###\n",
        "\n",
        "#import csv module\n",
        "import csv\n",
        "\n",
        "#open file and write records\n",
        "with open(\"accounts.csv\",'w') as acc:\n",
        "  writer = csv.writer(acc)\n",
        "  writer.writerow([100, \"Jones\" ,24.98])\n",
        "  writer.writerow([200, \"Doe\" ,345.67])\n",
        "  writer.writerow([300, \"Williams\" ,0.00])\n",
        "  writer.writerow([400, \"Stone\" ,-42.16])\n",
        "  writer.writerow([500, \"Rich\" ,224.62])\n"
      ]
    },
    {
      "cell_type": "code",
      "execution_count": 44,
      "metadata": {
        "id": "IFTbzVzFeYz_",
        "colab": {
          "base_uri": "https://localhost:8080/"
        },
        "outputId": "c6780cb8-8c3e-4ca7-d422-d661530e5f59"
      },
      "outputs": [
        {
          "output_type": "stream",
          "name": "stdout",
          "text": [
            "100       , Jones     , 24.98     \n",
            "200       , Doe       , 345.67    \n",
            "300       , Williams  , 0.0       \n",
            "400       , Stone     , -42.16    \n",
            "500       , Rich      , 224.62    \n"
          ]
        }
      ],
      "source": [
        "### Reading from CSV file ###\n",
        "\n",
        "#The csv module’s reader function returns an object that reads CSV-format data from the specified file object\n",
        "import csv\n",
        "#open file and read records\n",
        "\n",
        "with open(\"accounts.csv\",'r') as accRead:\n",
        "  reader = csv.reader(accRead)\n",
        "\n",
        "  for record in reader:\n",
        "    #print(record)\n",
        "    id, name, bal = record\n",
        "    print(f'{id:10}, {name:10}, {bal:10}')\n",
        "\n",
        "#open file and write records\n",
        "\n"
      ]
    },
    {
      "cell_type": "markdown",
      "source": [
        "## Getting data from financial website"
      ],
      "metadata": {
        "id": "g2lwtt9bRI4C"
      }
    },
    {
      "cell_type": "code",
      "source": [
        "!curl \"https://query1.finance.yahoo.com/v7/finance/download/NAB.AX?period1=1653004800&period2=1661040000&interval=1d&events=history&includeAdjustedClose=true\" > NABData.csv"
      ],
      "metadata": {
        "id": "fLGruaTOrSvD"
      },
      "execution_count": null,
      "outputs": []
    },
    {
      "cell_type": "code",
      "source": [
        "import csv\n",
        "\n",
        "# open file and write records\n",
        "with open(\"BHP.AX.csv\",'r') as data:\n",
        "  reder = csv.reader(data)\n",
        "  print(next(reder))\n",
        "  print(next(reder))\n"
      ],
      "metadata": {
        "id": "8Mr72pnuwVt-",
        "colab": {
          "base_uri": "https://localhost:8080/"
        },
        "outputId": "d6d9d0de-705f-41f2-ec4d-772866dc9c7c"
      },
      "execution_count": 47,
      "outputs": [
        {
          "output_type": "stream",
          "name": "stdout",
          "text": [
            "['Date', 'Open', 'High', 'Low', 'Close', 'Adj Close', 'Volume']\n",
            "['2021-08-23', '44.959999', '45.070000', '44.200001', '44.459999', '39.971951', '11096534']\n"
          ]
        }
      ]
    },
    {
      "cell_type": "code",
      "source": [
        "import csv\n",
        "\n",
        "datas = []\n",
        "close = []\n",
        "# open file and write records\n",
        "with open(\"BHP.AX.csv\",'r') as data:\n",
        "  reader = csv.reader(data)\n",
        "  header = next(reader)\n",
        "  for record in reader:\n",
        "    datas.append(record[1])\n",
        "    close.append(float(record[5]))\n",
        "    ctr = ctr + 1\n",
        "    if ctr == 10:\n",
        "      break\n",
        "\n",
        "print(datas)\n",
        "print(close)\n",
        "\n",
        "# plot the results\n",
        "from matplotlib import pyplot \n"
      ],
      "metadata": {
        "id": "BWv-WdWQrrIE",
        "colab": {
          "base_uri": "https://localhost:8080/"
        },
        "outputId": "7307a3dd-e31b-4909-b2d2-78e7e7598676"
      },
      "execution_count": 56,
      "outputs": [
        {
          "output_type": "stream",
          "name": "stdout",
          "text": [
            "['44.959999', '44.860001', '45.410000', '45.509998', '44.889999', '45.630001', '46.160000', '45.180000', '41.980000', '42.060001', '42.500000', '42.070000', '41.939999', '41.500000', '41.130001', '41.400002', '41.680000', '40.930000', '40.950001', '39.799999', '37.799999', '37.209999', '37.700001', '38.689999', '37.950001', '37.799999', '37.580002', '35.990002', '36.700001', '37.119999', '37.279999', '36.700001', '36.610001', '36.900002', '37.410000', '37.740002', '38.400002', '37.980000', '37.750000', '38.740002', '39.000000', '38.970001', '39.139999', '38.799999', '37.630001', '37.810001', '38.200001', '38.099998', '37.330002', '37.250000', '36.650002', '36.310001', '35.700001', '36.160000', '36.130001', '36.250000', '36.919998', '36.549999', '35.700001', '37.790001', '37.580002', '36.740002', '36.259998', '36.150002', '36.189999', '36.400002', '37.480000', '38.299999', '38.660000', '38.490002', '38.279999', '39.369999', '39.380001', '39.250000', '40.610001', '39.209999', '39.540001', '40.830002', '40.310001', '39.820000', '40.200001', '40.860001', '41.160000', '40.599998', '40.740002', '40.970001', '40.950001', '41.869999', '41.299999', '41.549999', '41.490002', '41.560001', '41.680000', '41.750000', '42.700001', '42.619999', '43.560001', '44.459999', '44.310001', '45.130001', '46.000000', '46.400002', '46.790001', '46.439999', '46.400002', '47.209999', '47.000000', '45.320000', '45.240002', '45.299999', '47.259998', '46.049999', '45.439999', '45.990002', '46.340000', '46.400002', '46.849998', '48.270000', '48.689999', '47.700001', '49.099998', '48.380001', '49.000000', '47.389999', '47.830002', '47.419998', '48.000000', '48.139999', '47.849998', '45.790001', '44.700001', '45.650002', '47.049999', '47.189999', '49.779999', '50.000000', '50.389999', '49.540001', '47.580002', '47.520000', '48.310001', '47.779999', '45.849998', '45.169998', '45.990002', '46.130001', '46.459999', '48.119999', '47.930000', '48.750000', '49.689999', '50.209999', '50.639999', '50.779999', '52.500000', '52.599998', '52.950001', '52.209999', '51.020000', '51.220001', '51.610001', '52.200001', '51.439999', '51.849998', '52.200001', '53.180000', '53.029999', '51.389999', '48.590000', '45.900002', '45.180000', '47.680000', '47.980000', '47.830002', '48.040001', '48.000000', '47.799999', '46.529999', '46.340000', '45.000000', '44.919998', '45.700001', '45.189999', '46.080002', '40.762863', '41.831352', '40.860809', '41.715603', '42.472446', '42.908749', '43.000000', '43.200001', '43.389999', '44.439999', '44.950001', '44.509998', '45.599998', '46.799999', '46.529999', '46.439999', '47.580002', '46.970001', '45.889999', '43.500000', '43.869999', '44.480000', '42.889999', '42.160000', '40.939999', '41.540001', '40.200001', '39.759998', '40.599998', '41.619999', '42.419998', '42.299999', '40.830002', '39.750000', '39.900002', '38.799999', '38.099998', '39.990002', '38.529999', '38.200001', '36.810001', '37.009998', '36.000000', '36.250000', '37.299999', '36.799999', '36.900002', '36.599998', '36.630001', '37.820000', '38.230000', '38.029999', '38.740002', '39.110001', '38.570000', '38.240002', '38.610001', '38.150002', '38.799999', '38.790001', '38.930000', '38.810001', '39.099998', '39.180000', '39.930000', '41.290001', '40.680000', '41.470001']\n",
            "[39.971951, 40.385513, 40.888985, 40.412491, 40.187725, 41.203655, 41.005863, 40.484409, 40.125889, 40.518154, 40.365078, 40.221565, 39.810165, 39.150009, 39.465736, 39.685787, 39.924976, 38.518559, 38.891693, 37.466141, 35.906643, 36.11713, 36.987766, 36.719879, 36.088428, 36.088428, 35.275192, 34.815956, 35.983185, 35.256058, 35.342163, 34.940334, 35.064713, 35.055141, 36.107563, 36.432858, 36.337181, 35.96405, 36.164967, 37.179115, 37.494843, 36.729446, 36.901661, 36.815552, 36.021458, 36.289345, 36.557232, 36.031021, 35.418705, 34.997738, 34.835091, 34.021858, 34.385418, 34.471527, 34.528931, 34.806389, 35.141251, 34.194073, 35.074276, 36.069294, 35.839672, 34.911633, 34.404556, 34.481094, 34.87336, 34.997738, 36.404152, 36.585938, 36.949497, 36.385017, 36.901661, 37.667057, 38.174133, 37.992348, 38.489857, 37.877541, 38.22197, 38.929958, 38.461155, 38.231537, 39.26482, 39.494438, 39.293522, 38.901257, 39.609249, 39.322224, 39.905838, 39.599682, 39.475304, 39.532711, 39.542278, 39.877136, 39.704926, 40.54686, 40.786045, 40.833881, 41.838467, 42.843048, 42.718674, 43.168339, 44.823509, 44.660862, 44.15379, 44.68, 44.546055, 45.933334, 43.723255, 43.627579, 43.082233, 43.69455, 44.89048, 44.345135, 42.986561, 43.665848, 45.014858, 44.78524, 45.340153, 47.024025, 46.229927, 46.191654, 46.746567, 46.239494, 46.095982, 45.282749, 45.895065, 45.885498, 46.153389, 45.741985, 46.01944, 44.77, 44.689999, 46.66, 46.549999, 48.32, 50.060001, 49.939999, 50.380001, 48.529999, 48.490002, 47.75, 47.689999, 47.360001, 45.369999, 45.18, 45.68, 46.25, 46.450001, 48.82, 48.439999, 49.299999, 49.77, 50.919998, 50.619999, 50.580002, 51.75, 52.389999, 52.459999, 51.950001, 51.41, 51.07, 51.939999, 51.68, 51.720001, 51.779999, 52.5, 53.169998, 52.299999, 50.700001, 48.490002, 45.66, 46.009998, 48.02, 48.009998, 47.98, 47.66, 47.400002, 47.450001, 46.799999, 46.209999, 45.02, 45.66, 44.950001, 45.84, 45.310001, 40.566975, 41.858067, 41.163548, 42.009438, 42.5882, 42.561489, 43.02, 42.619999, 43.669998, 44.91, 44.610001, 45.650002, 45.610001, 46.759998, 46.34, 46.299999, 47.369999, 46.240002, 46.220001, 44.259998, 43.900002, 44.009998, 42.52, 40.259998, 40.950001, 41.029999, 40.5, 40.02, 41.200001, 42.98, 42.759998, 41.25, 40.049999, 39.900002, 40.0, 37.759998, 38.939999, 39.220001, 38.0, 37.459999, 36.919998, 37.400002, 36.099998, 36.970001, 36.610001, 37.110001, 36.790001, 36.75, 37.349998, 38.27, 37.52, 38.32, 38.68, 39.099998, 38.580002, 38.610001, 38.169998, 38.810001, 39.119999, 38.82, 38.299999, 39.150002, 38.830002, 38.919998, 40.509998, 40.849998, 41.150002, 41.549999]\n"
          ]
        }
      ]
    },
    {
      "cell_type": "markdown",
      "source": [
        "# Module Pandas"
      ],
      "metadata": {
        "id": "3urnKWF4LPwK"
      }
    },
    {
      "cell_type": "markdown",
      "metadata": {
        "id": "fKUibINgWaEg"
      },
      "source": [
        "## Using Pandas Module to Read in CSV Files (the “Easy Way”)\n",
        "\n",
        "An easier method of importing files into Python is using the **Pandas** module. Pandas (name derived from “panel data”) is a data analysis library that, among other things, makes reading in CSV files and accessing the contained data much easier \n",
        "\n",
        "The primary data structure used in Pandas are a ***DataFrame***. A DataFrame has a *two-dimensional tabular format using rows and columns*. Using a DataFrame, we can reference columns by name, rather than having to count to figure out which column number we want. Pandas provides an assortment of methods like .mean() that will do summary statistics on our data\n",
        "\n",
        " \n",
        "Read From a CSV File Using Pandas\n",
        "\n",
        "Source: *Kaefer, F., & Kaefer, P. (2020). Introduction to Python \n",
        "Programming for Business and Social Science Applications. SAGE Publications, Inc. (US).*"
      ]
    },
    {
      "cell_type": "code",
      "source": [
        "!curl \"https://query1.finance.yahoo.com/v7/finance/download/BHP.AX?period1=1629553321&period2=1661089321&interval=1d&events=history&includeAdjustedClose=true\" > BHPData.csv"
      ],
      "metadata": {
        "id": "RNGquOZONfU8"
      },
      "execution_count": null,
      "outputs": []
    },
    {
      "cell_type": "code",
      "execution_count": null,
      "metadata": {
        "id": "O0aJQTGiM0Tc"
      },
      "outputs": [],
      "source": [
        "#import pandas module\n",
        "import pandas as pd\n",
        "from matplotlib import pyplot as plt\n",
        "\n",
        "# Load the data\n",
        "\n"
      ]
    },
    {
      "cell_type": "markdown",
      "source": [
        "## Daily Return of Stock Data\n",
        "\n",
        "### Daily Return formula\n",
        "\n",
        "Visiting a financial website that provides stock price information. Type a company’s name or its stock’s ticker symbol. Find in the historical prices section the stock’s closing price for any two consecutive days. For example, assume a stock’s closing price was \\$36.75 yesterday and that its closing price was \\$35.50 the previous day. Subtract the previous day’s closing price from the most recent day’s closing price. In this example, subtract \\$35.50 from \\$36.75 to get \\$1.25.\n",
        "\n",
        "Now divide the results by the previous day's closing prices to calculate the daily return.  Multiply this by 100 to convert to a percentage.  So $1.25 divided by #35.50 equals 0.035.  Multiply 0.035 by 100 to 3.5 percent.\n",
        "\n",
        "    Daily return = (Today prices - Yesterday price) / Yesterday price\n",
        "\n",
        "\n",
        "\n",
        "To find the URL, navigate to Yahoo finance, type in NAB.AX, click the 'Historical' tab.  towards the right is a download option.  right click on the download link and select 'Copy Link Address' form the popup menu.  Now paste to the URL assignment statement."
      ],
      "metadata": {
        "id": "QqhiTK-eOCYC"
      }
    },
    {
      "cell_type": "code",
      "source": [
        "#import pandas module\n",
        "import pandas as pd\n",
        "from matplotlib import pyplot as plt\n",
        "\n",
        "# Load the data\n",
        "data = pd.read_csv('BHPData.csv')\n",
        "\n",
        "\n",
        "# Calculate the return\n",
        "data['Daily_return'] = data['Adj Close'] / data['Adj Close'].shift(1)-1\n",
        "\n",
        "# Plot the results\n",
        "plt.plot(data['Date'],data['Daily_return'])"
      ],
      "metadata": {
        "id": "L4l3gXQgOZAb"
      },
      "execution_count": null,
      "outputs": []
    },
    {
      "cell_type": "code",
      "source": [
        ""
      ],
      "metadata": {
        "id": "2FvF1fmkOY4z"
      },
      "execution_count": null,
      "outputs": []
    },
    {
      "cell_type": "markdown",
      "metadata": {
        "id": "gTo3bmwTEAbJ"
      },
      "source": [
        "Sources:\n",
        "\n",
        "* Kaefer, F., & Kaefer, P. (2020). Introduction to Python \n",
        "Programming for Business and Social Science Applications. SAGE Publications\n",
        "\n",
        "* Tony Gaddis, Starting out with Python, 5th Edition\n",
        "\n",
        "* Deitel & Deitel, Intro to Python for Computer Science and Data Science, Global Edition\n"
      ]
    }
  ],
  "metadata": {
    "colab": {
      "name": "05_Working_with_Files.ipynb",
      "provenance": [],
      "collapsed_sections": [],
      "include_colab_link": true
    },
    "kernelspec": {
      "display_name": "Python 3",
      "name": "python3"
    },
    "language_info": {
      "name": "python"
    }
  },
  "nbformat": 4,
  "nbformat_minor": 0
}
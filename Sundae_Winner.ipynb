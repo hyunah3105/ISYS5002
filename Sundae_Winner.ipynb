{
  "nbformat": 4,
  "nbformat_minor": 0,
  "metadata": {
    "colab": {
      "name": "Sundae_Winner.ipynb",
      "provenance": [],
      "authorship_tag": "ABX9TyM+iAKttillpHTjfOMq1vJb",
      "include_colab_link": true
    },
    "kernelspec": {
      "name": "python3",
      "display_name": "Python 3"
    },
    "language_info": {
      "name": "python"
    }
  },
  "cells": [
    {
      "cell_type": "markdown",
      "metadata": {
        "id": "view-in-github",
        "colab_type": "text"
      },
      "source": [
        "<a href=\"https://colab.research.google.com/github/hyunah3105/ISYS5002/blob/main/Sundae_Winner.ipynb\" target=\"_parent\"><img src=\"https://colab.research.google.com/assets/colab-badge.svg\" alt=\"Open In Colab\"/></a>"
      ]
    },
    {
      "cell_type": "code",
      "execution_count": 5,
      "metadata": {
        "id": "VqYx2FzBC4Pn"
      },
      "outputs": [],
      "source": [
        "customers = ['Jimmy','Kim','John','Stacie']"
      ]
    },
    {
      "cell_type": "code",
      "source": [
        "print(customers)"
      ],
      "metadata": {
        "colab": {
          "base_uri": "https://localhost:8080/"
        },
        "id": "1MpJcit_ExSj",
        "outputId": "bfd3ff4d-bdaf-46da-b62f-437f201ff7a1"
      },
      "execution_count": 6,
      "outputs": [
        {
          "output_type": "stream",
          "name": "stdout",
          "text": [
            "['Jimmy', 'Kim', 'John', 'Stacie']\n"
          ]
        }
      ]
    },
    {
      "cell_type": "code",
      "source": [
        "import random"
      ],
      "metadata": {
        "id": "oUASRDWdFCxj"
      },
      "execution_count": 7,
      "outputs": []
    },
    {
      "cell_type": "code",
      "source": [
        "winner = random.choice(customers) #randomly choose a customer's name using the choice method in the random mudule"
      ],
      "metadata": {
        "id": "vHA6qwWEDgIj"
      },
      "execution_count": 27,
      "outputs": []
    },
    {
      "cell_type": "code",
      "source": [
        "winner"
      ],
      "metadata": {
        "colab": {
          "base_uri": "https://localhost:8080/",
          "height": 35
        },
        "id": "ybdUnSeEFHbD",
        "outputId": "b3382b40-0c13-492b-e205-5afd90774f42"
      },
      "execution_count": 9,
      "outputs": [
        {
          "output_type": "execute_result",
          "data": {
            "text/plain": [
              "'Stacie'"
            ],
            "application/vnd.google.colaboratory.intrinsic+json": {
              "type": "string"
            }
          },
          "metadata": {},
          "execution_count": 9
        }
      ]
    },
    {
      "cell_type": "code",
      "source": [
        "flavor = 'vanilla'"
      ],
      "metadata": {
        "id": "rcEsowo4DsL8"
      },
      "execution_count": 10,
      "outputs": []
    },
    {
      "cell_type": "code",
      "source": [
        "print('Congratulations '+winner+' you have won an ice cream sundae!')"
      ],
      "metadata": {
        "colab": {
          "base_uri": "https://localhost:8080/"
        },
        "id": "-GTUXDoYD1yp",
        "outputId": "a219150c-9557-47a7-8c4f-e8d219972814"
      },
      "execution_count": 12,
      "outputs": [
        {
          "output_type": "stream",
          "name": "stdout",
          "text": [
            "Congratulations Stacie you have won an ice cream sundae!\n"
          ]
        }
      ]
    },
    {
      "cell_type": "code",
      "source": [
        "prompt='Would you like a cherry on top?'"
      ],
      "metadata": {
        "id": "UIYJGtCDECHs"
      },
      "execution_count": 13,
      "outputs": []
    },
    {
      "cell_type": "code",
      "source": [
        "wants_cherry = input(prompt)"
      ],
      "metadata": {
        "colab": {
          "base_uri": "https://localhost:8080/"
        },
        "id": "IzS_lN13EGVj",
        "outputId": "afc329fb-6b97-4597-b17d-badeef378811"
      },
      "execution_count": 14,
      "outputs": [
        {
          "name": "stdout",
          "output_type": "stream",
          "text": [
            "Would you like a cherry on top?yes\n"
          ]
        }
      ]
    },
    {
      "cell_type": "code",
      "source": [
        "order = flavor + ' sundae '"
      ],
      "metadata": {
        "id": "M_Q0lzoMELdi"
      },
      "execution_count": 23,
      "outputs": []
    },
    {
      "cell_type": "code",
      "source": [
        "if(wants_cherry == 'yes') :\n",
        "   order = order + ' with a cherry on top'"
      ],
      "metadata": {
        "id": "TNC5LarwEP9r"
      },
      "execution_count": 33,
      "outputs": []
    },
    {
      "cell_type": "code",
      "source": [
        "print('One '+order+'for'+winner+'coming right up...')"
      ],
      "metadata": {
        "colab": {
          "base_uri": "https://localhost:8080/"
        },
        "id": "N7XV52c0EaHj",
        "outputId": "be9f2139-3f41-48b7-8bba-81ecb359743e"
      },
      "execution_count": 26,
      "outputs": [
        {
          "output_type": "stream",
          "name": "stdout",
          "text": [
            "One vanilla sundae  with a cherry on topforStaciecoming right up...\n"
          ]
        }
      ]
    }
  ]
}
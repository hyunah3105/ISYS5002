{
  "nbformat": 4,
  "nbformat_minor": 0,
  "metadata": {
    "colab": {
      "name": "SimpleInterestCalculator.ipynb",
      "provenance": [],
      "collapsed_sections": [],
      "include_colab_link": true
    },
    "kernelspec": {
      "name": "python3",
      "display_name": "Python 3"
    },
    "language_info": {
      "name": "python"
    }
  },
  "cells": [
    {
      "cell_type": "markdown",
      "metadata": {
        "id": "view-in-github",
        "colab_type": "text"
      },
      "source": [
        "<a href=\"https://colab.research.google.com/github/hyunah3105/ISYS5002/blob/main/SimpleInterestCalculator.ipynb\" target=\"_parent\"><img src=\"https://colab.research.google.com/assets/colab-badge.svg\" alt=\"Open In Colab\"/></a>"
      ]
    },
    {
      "cell_type": "markdown",
      "source": [
        "# Simple Interest Calculator\n",
        "\n",
        "The process of problem solving we will use can be broken down into 6 key steps:\n",
        "1. State the problem clearly\n",
        "2. Describe the input and output information\n",
        "3. Work the problem by hand\n",
        "4. Develop an algorithm / pseudocode\n",
        "5. Convert pseudoce to Python program code\n",
        "6. Test solution with a variety of data\n",
        "\n",
        "## Work Flow\n",
        "1. Save to Github\n",
        "2. Analyse problem/requirement & Design the algorithm/pseudocode\n",
        "3. Write and test the program"
      ],
      "metadata": {
        "id": "iGq9-ZTb3VCF"
      }
    },
    {
      "cell_type": "markdown",
      "source": [
        "# Problem/Requirement:\n",
        "\n",
        "Bank ABC wants to calculate their client's loan interest using the simple interest method as explained at https://www.bankrate.com/loans/personal-loans/how-to-calculate-loan-interest/\n",
        "\n",
        "Write a program for bank ABC to compute the loan interest on their client's borrowed amount based on the simple interest method. \n",
        "\n",
        "\n",
        "\n",
        "\n"
      ],
      "metadata": {
        "id": "bhfP5hvE4k7C"
      }
    },
    {
      "cell_type": "markdown",
      "source": [
        "# 1. State Problem Clearly"
      ],
      "metadata": {
        "id": "DSkLjERz3vF4"
      }
    },
    {
      "cell_type": "markdown",
      "source": [],
      "metadata": {
        "id": "tVaK-EQo4ff8"
      }
    },
    {
      "cell_type": "code",
      "source": [],
      "metadata": {
        "id": "KDozzRhU9z2l"
      },
      "execution_count": null,
      "outputs": []
    },
    {
      "cell_type": "markdown",
      "source": [
        "# 2. Describe Inputs and Outputs"
      ],
      "metadata": {
        "id": "25s3HK5730CD"
      }
    },
    {
      "cell_type": "markdown",
      "source": [
        "To get remaining loan balaces,\n",
        "We need to get Interest rate,number of payment that year, fixed monthly payment and loan balance as Input.\n",
        "\n",
        "And by using output function after calculate amortiation schedules, You can see the Interest,Total Interest you Paid and Remaining Balance."
      ],
      "metadata": {
        "id": "JLhIpogG4gKn"
      }
    },
    {
      "cell_type": "markdown",
      "source": [
        "# 3. Work the problem by hand - worked example"
      ],
      "metadata": {
        "id": "6f4dt-ln37HF"
      }
    },
    {
      "cell_type": "markdown",
      "source": [
        "1. If you make monthly payments, we need to divide interest rate by 12 to get how much you have to pay in interest that month.\n",
        "\n",
        "2. To get lnterest paid that month, you would mutltiply that number by loan balance.\n",
        "Then, You can get your first month of interest.\n",
        "\n",
        "3. To get how much you need to pay in the first month, you need to substract the interest from your fixed monthly payment.\n",
        "you can see the remaining balance and You just have to repeat this process every month\n",
        "point is that the remaining balance has changed, so the interest will be changed. "
      ],
      "metadata": {
        "id": "tCIdflHU1rBd"
      }
    },
    {
      "cell_type": "markdown",
      "source": [
        "# 4. Develop an Algorithm/Pseudocode"
      ],
      "metadata": {
        "id": "LoEHWS9p4Edn"
      }
    },
    {
      "cell_type": "markdown",
      "source": [
        "1. set interest rate, (Remaining )loan balance.\n",
        "2. calculate monthly interest paid\n",
        "3. calculate how much you need to pay interest every month\n",
        "4. fixed payment - interest = how much you will pay in the first month\n",
        "5. Remaining balance - (fixed payment - interest)\n",
        "6. Repeat 1~5"
      ],
      "metadata": {
        "id": "pBknQciS4KeR"
      }
    },
    {
      "cell_type": "markdown",
      "source": [
        "# 5. Convert Pseudocode to Python Code"
      ],
      "metadata": {
        "id": "dtlaNDkf4TZ0"
      }
    },
    {
      "cell_type": "code",
      "execution_count": null,
      "metadata": {
        "id": "gh53G9xt2_KJ",
        "colab": {
          "base_uri": "https://localhost:8080/"
        },
        "outputId": "1fac8511-3828-4cdf-8e3f-be3b5d40e95e"
      },
      "outputs": [
        {
          "output_type": "stream",
          "name": "stdout",
          "text": [
            "405.33\n",
            "your remaining balance is  4594.67\n"
          ]
        }
      ],
      "source": [
        "Interest_rate = 0.06  # a 6 percent interest rate\n",
        "loan_balance = 5000\n",
        "\n",
        "# your monthly interest paid\n",
        "Interest_paid_that_month =  (Interest_rate/12)*loan_balance\n",
        "\n",
        "fixed_monthly_payment = 430.33\n",
        "first_month = fixed_monthly_payment - Interest_paid_that_month\n",
        "\n",
        "print(first_month)\n",
        "print(\"your remaining balance is \",loan_balance-first_month)"
      ]
    },
    {
      "cell_type": "markdown",
      "source": [
        "# 6. Test Solution with a variety of data"
      ],
      "metadata": {
        "id": "4gSCYBI74Yf-"
      }
    },
    {
      "cell_type": "code",
      "source": [
        "Interest_Rate = float(input(\"Interest_rate is $\"))\n",
        "Remaining_Balance = int(input(\"Remaining loan balance is $\"))\n",
        "\n",
        "print(\"Your first of Interest payment is $\", (Interest_Rate/12)*Remaining_Balance )\n",
        "\n",
        "Payment = (Interest_Rate/12)*Remaining_Balance\n",
        "Fixed_payment = 430.33\n",
        "\n",
        "print(\"Your first month payment is $\",Fixed_payment-Payment)\n",
        "\n",
        "Remaining_Balance = Remaining_Balance - (Fixed_payment-Payment)\n",
        "\n",
        "print(\"Remaining loan balance is $\",Remaining_Balance)\n",
        "\n"
      ],
      "metadata": {
        "id": "s5tVf-P44dTj",
        "colab": {
          "base_uri": "https://localhost:8080/"
        },
        "outputId": "e589c6f2-2108-4e0b-9417-009ba38b6395"
      },
      "execution_count": null,
      "outputs": [
        {
          "output_type": "stream",
          "name": "stdout",
          "text": [
            "Interest_rate is $0.06\n",
            "Remaining loan balance is $5000\n",
            "Your first of Interest payment is $ 25.0\n",
            "Your first month payment is $ 405.33\n",
            "Remaining loan balance is $ 4594.67\n"
          ]
        }
      ]
    }
  ]
}
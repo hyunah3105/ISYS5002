{
  "nbformat": 4,
  "nbformat_minor": 0,
  "metadata": {
    "colab": {
      "name": "06_debugging_isPrime().ipynb",
      "provenance": []
    },
    "kernelspec": {
      "name": "python3",
      "display_name": "Python 3"
    },
    "language_info": {
      "name": "python"
    }
  },
  "cells": [
    {
      "cell_type": "markdown",
      "source": [
        "## Debug isPrime()\n",
        "What is your preferred method? Do you like using print() or prefer *pdb*?   Since mistakes in programs will happen, the important part is that you have a debugging strategy, not which tool you use.\n",
        "\n",
        "Here is a function that needs debugging. Using either print() or *pdb*, debug the following function."
      ],
      "metadata": {
        "id": "LIfoDVzKX7uK"
      }
    },
    {
      "cell_type": "code",
      "source": [
        "import pdb\n",
        "\n",
        "def isPrime(candidate):\n",
        "    pdb.set_trace()\n",
        "    if candidate <= 1:\n",
        "        return False\n",
        "\n",
        "    lower = candidate - 1   \n",
        "    print(lower)\n",
        "    while lower > 1:\n",
        "        print(\"candidate / lower\",candidate / lower)\n",
        "        print(\"candidate // lower\",candidate // lower)\n",
        "        if candidate / lower == candidate // lower:  \n",
        "            return False\n",
        "        lower -= 1\n",
        "    \n",
        "    return True\n",
        "\n",
        "\n",
        "isPrime(3)"
      ],
      "metadata": {
        "id": "YH9gDoOYvKwg",
        "outputId": "6cfc7928-8cdd-4447-abe8-22a8352c85b2",
        "colab": {
          "base_uri": "https://localhost:8080/"
        }
      },
      "execution_count": 27,
      "outputs": [
        {
          "name": "stdout",
          "output_type": "stream",
          "text": [
            "> <ipython-input-27-a7a224264f5a>(5)isPrime()\n",
            "-> if candidate <= 1:\n",
            "(Pdb) n\n",
            "> <ipython-input-27-a7a224264f5a>(8)isPrime()\n",
            "-> lower = candidate - 1\n",
            "(Pdb) n\n",
            "> <ipython-input-27-a7a224264f5a>(9)isPrime()\n",
            "-> print(lower)\n",
            "(Pdb) n\n",
            "2\n",
            "> <ipython-input-27-a7a224264f5a>(10)isPrime()\n",
            "-> while lower > 1:\n",
            "(Pdb) n\n",
            "> <ipython-input-27-a7a224264f5a>(11)isPrime()\n",
            "-> print(\"candidate / lower\",candidate / lower)\n",
            "(Pdb) n\n",
            "candidate / lower 1.5\n",
            "> <ipython-input-27-a7a224264f5a>(12)isPrime()\n",
            "-> print(\"candidate // lower\",candidate // lower)\n",
            "(Pdb) n\n",
            "candidate // lower 1\n",
            "> <ipython-input-27-a7a224264f5a>(13)isPrime()\n",
            "-> if candidate / lower == candidate // lower:\n",
            "(Pdb) c\n"
          ]
        },
        {
          "output_type": "execute_result",
          "data": {
            "text/plain": [
              "True"
            ]
          },
          "metadata": {},
          "execution_count": 27
        }
      ]
    }
  ]
}
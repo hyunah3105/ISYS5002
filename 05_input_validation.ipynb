{
  "cells": [
    {
      "cell_type": "markdown",
      "metadata": {
        "id": "view-in-github",
        "colab_type": "text"
      },
      "source": [
        "<a href=\"https://colab.research.google.com/github/hyunah3105/ISYS5002/blob/main/05_input_validation.ipynb\" target=\"_parent\"><img src=\"https://colab.research.google.com/assets/colab-badge.svg\" alt=\"Open In Colab\"/></a>"
      ]
    },
    {
      "cell_type": "markdown",
      "id": "b5835b0c",
      "metadata": {
        "id": "b5835b0c"
      },
      "source": [
        "# Input Validation\n",
        "\n",
        "Input validation code verifies that user supplied data, such as text from the input() function, is formatted appropriately.\n",
        "\n",
        "* isdigit()\n",
        "* try/except\n",
        "* PyInputPlus\n",
        "\n"
      ]
    },
    {
      "cell_type": "code",
      "source": [
        "salary = input(\"enter something:\")\n",
        "\n",
        "print(salary)"
      ],
      "metadata": {
        "id": "BA8h-pV08W0s",
        "outputId": "cb34b1c5-68b6-47d3-8ced-9b7838198b07",
        "colab": {
          "base_uri": "https://localhost:8080/",
          "height": 0
        }
      },
      "id": "BA8h-pV08W0s",
      "execution_count": 2,
      "outputs": [
        {
          "output_type": "stream",
          "name": "stdout",
          "text": [
            "enter something:dfsdf\n",
            "dfsdf\n"
          ]
        }
      ]
    },
    {
      "cell_type": "markdown",
      "id": "acc7252b",
      "metadata": {
        "id": "acc7252b"
      },
      "source": [
        "## isdigit()"
      ]
    },
    {
      "cell_type": "code",
      "execution_count": 7,
      "id": "695b1f5f",
      "metadata": {
        "id": "695b1f5f",
        "outputId": "3fb7d884-968d-4863-9b6b-40b4abc92d58",
        "colab": {
          "base_uri": "https://localhost:8080/",
          "height": 0
        }
      },
      "outputs": [
        {
          "output_type": "stream",
          "name": "stdout",
          "text": [
            "enter something:rrr\n",
            "pls enter numeric value\n",
            "enter something:rrrr\n",
            "pls enter numeric value\n",
            "enter something:222\n",
            "The pay rate is  222\n"
          ]
        }
      ],
      "source": [
        "while True:\n",
        "  salary1 = input(\"enter something:\")\n",
        "\n",
        "  if salary1.isdigit():\n",
        "    salary = float(salary1)\n",
        "    break\n",
        "  else:\n",
        "    print(\"pls enter numeric value\")\n",
        "\n",
        "print(\"The pay rate is \",salary1)"
      ]
    },
    {
      "cell_type": "markdown",
      "source": [
        "## try/except"
      ],
      "metadata": {
        "id": "qbYXnPLGeY6m"
      },
      "id": "qbYXnPLGeY6m"
    },
    {
      "cell_type": "code",
      "execution_count": 10,
      "id": "5f98c241",
      "metadata": {
        "id": "5f98c241",
        "outputId": "a16a320d-8252-4514-9247-ab1f46de1365",
        "colab": {
          "base_uri": "https://localhost:8080/",
          "height": 182
        }
      },
      "outputs": [
        {
          "name": "stdout",
          "output_type": "stream",
          "text": [
            "Enter the hourly pay rate :f3432lkj4\n"
          ]
        },
        {
          "output_type": "error",
          "ename": "ValueError",
          "evalue": "ignored",
          "traceback": [
            "\u001b[0;31m---------------------------------------------------------------------------\u001b[0m",
            "\u001b[0;31mValueError\u001b[0m                                Traceback (most recent call last)",
            "\u001b[0;32m<ipython-input-10-f47722eb2607>\u001b[0m in \u001b[0;36m<module>\u001b[0;34m\u001b[0m\n\u001b[0;32m----> 1\u001b[0;31m \u001b[0mpay_rate\u001b[0m \u001b[0;34m=\u001b[0m \u001b[0mfloat\u001b[0m\u001b[0;34m(\u001b[0m\u001b[0minput\u001b[0m\u001b[0;34m(\u001b[0m\u001b[0;34m\"Enter the hourly pay rate :\"\u001b[0m\u001b[0;34m)\u001b[0m\u001b[0;34m)\u001b[0m\u001b[0;34m\u001b[0m\u001b[0;34m\u001b[0m\u001b[0m\n\u001b[0m",
            "\u001b[0;31mValueError\u001b[0m: could not convert string to float: 'f3432lkj4'"
          ]
        }
      ],
      "source": [
        "\n",
        "  pay_rate = float(input(\"Enter the hourly pay rate :\"))\n"
      ]
    },
    {
      "cell_type": "code",
      "source": [
        "while True:\n",
        "  try:\n",
        "    pay_rate = float(input(\"Enter the hourly pay rate :\"))\n",
        "    break\n",
        "  except ValueError:\n",
        "    print(ValueError,\"Please enter a valid input for pay rate\")\n",
        "  except ZeroDivisionError as err:\n",
        "    print(\"Handling run-time err\",err)\n",
        "  except:\n",
        "    print(\"Error occured.please check your unput\")\n",
        "\n",
        "print(\"Your input value is \",pay_rate)"
      ],
      "metadata": {
        "id": "zrBmlwko8D6Z",
        "outputId": "98da80c3-f1b6-4839-8e01-a46f91b1d515",
        "colab": {
          "base_uri": "https://localhost:8080/"
        }
      },
      "id": "zrBmlwko8D6Z",
      "execution_count": null,
      "outputs": [
        {
          "output_type": "stream",
          "name": "stdout",
          "text": [
            "Error occured.please check your unput\n",
            "Error occured.please check your unput\n",
            "Error occured.please check your unput\n",
            "Error occured.please check your unput\n",
            "Error occured.please check your unput\n",
            "Error occured.please check your unput\n",
            "Error occured.please check your unput\n"
          ]
        }
      ]
    },
    {
      "cell_type": "markdown",
      "id": "18c00dc3",
      "metadata": {
        "id": "18c00dc3"
      },
      "source": [
        "## Module: PyInputPlus"
      ]
    },
    {
      "cell_type": "code",
      "execution_count": 1,
      "id": "dfe1740b",
      "metadata": {
        "id": "dfe1740b",
        "outputId": "abf843fa-71ba-49ae-e8df-ea38adb5c40d",
        "colab": {
          "base_uri": "https://localhost:8080/"
        }
      },
      "outputs": [
        {
          "output_type": "stream",
          "name": "stdout",
          "text": [
            "Looking in indexes: https://pypi.org/simple, https://us-python.pkg.dev/colab-wheels/public/simple/\n",
            "Collecting PyInputPlus\n",
            "  Downloading PyInputPlus-0.2.12.tar.gz (20 kB)\n",
            "  Installing build dependencies ... \u001b[?25l\u001b[?25hdone\n",
            "  Getting requirements to build wheel ... \u001b[?25l\u001b[?25hdone\n",
            "    Preparing wheel metadata ... \u001b[?25l\u001b[?25hdone\n",
            "Collecting stdiomask>=0.0.3\n",
            "  Downloading stdiomask-0.0.6.tar.gz (3.6 kB)\n",
            "  Installing build dependencies ... \u001b[?25l\u001b[?25hdone\n",
            "  Getting requirements to build wheel ... \u001b[?25l\u001b[?25hdone\n",
            "    Preparing wheel metadata ... \u001b[?25l\u001b[?25hdone\n",
            "Collecting pysimplevalidate>=0.2.7\n",
            "  Downloading PySimpleValidate-0.2.12.tar.gz (22 kB)\n",
            "  Installing build dependencies ... \u001b[?25l\u001b[?25hdone\n",
            "  Getting requirements to build wheel ... \u001b[?25l\u001b[?25hdone\n",
            "    Preparing wheel metadata ... \u001b[?25l\u001b[?25hdone\n",
            "Building wheels for collected packages: PyInputPlus, pysimplevalidate, stdiomask\n",
            "  Building wheel for PyInputPlus (PEP 517) ... \u001b[?25l\u001b[?25hdone\n",
            "  Created wheel for PyInputPlus: filename=PyInputPlus-0.2.12-py3-none-any.whl size=11315 sha256=9d2342ceabf9e92acbf501691090b5f155e1e775ac612039591db6b4c4235b5b\n",
            "  Stored in directory: /root/.cache/pip/wheels/e7/33/73/719f8f1bd984d39face880fd22f6c5ef1b85f726e84c687094\n",
            "  Building wheel for pysimplevalidate (PEP 517) ... \u001b[?25l\u001b[?25hdone\n",
            "  Created wheel for pysimplevalidate: filename=PySimpleValidate-0.2.12-py3-none-any.whl size=16193 sha256=b943224546b5d5f7879775cc10a1477a99c64205c586cbbb989be72fd8bd6720\n",
            "  Stored in directory: /root/.cache/pip/wheels/5a/8b/6c/2925d22b93860bdc9b8ce02c3d2cf79336606f7469cef66065\n",
            "  Building wheel for stdiomask (PEP 517) ... \u001b[?25l\u001b[?25hdone\n",
            "  Created wheel for stdiomask: filename=stdiomask-0.0.6-py3-none-any.whl size=3321 sha256=dd1197755ee90ba5f5a45c045adf0469c999cdf96f09e4e45fc164f7868fe0a2\n",
            "  Stored in directory: /root/.cache/pip/wheels/cf/13/89/64d0d3b167759523f4c1e68f883bbc30e7bfa27050edeb418e\n",
            "Successfully built PyInputPlus pysimplevalidate stdiomask\n",
            "Installing collected packages: stdiomask, pysimplevalidate, PyInputPlus\n",
            "Successfully installed PyInputPlus-0.2.12 pysimplevalidate-0.2.12 stdiomask-0.0.6\n"
          ]
        }
      ],
      "source": [
        "pip install PyInputPlus"
      ]
    },
    {
      "cell_type": "code",
      "source": [
        "import pyinputplus as pyip\n",
        "\n",
        "while True:\n",
        "  payRate = pyip.inputFloat(\"Enter the pay rate: \")\n",
        "  print(\"The pay rate\",payRate)\n",
        "\n",
        "  respond = pyip.inputYesNo(\"Do you want to continue?\")\n",
        "  if respond == 'no':\n",
        "    break\n"
      ],
      "metadata": {
        "id": "OvqPitIkh379",
        "outputId": "e143cdd0-87bf-435e-c050-ab8b32171b9a",
        "colab": {
          "base_uri": "https://localhost:8080/"
        }
      },
      "id": "OvqPitIkh379",
      "execution_count": 10,
      "outputs": [
        {
          "name": "stdout",
          "output_type": "stream",
          "text": [
            "Enter the pay rate: 333\n",
            "The pay rate 333.0\n",
            "Do you want to continue?no\n"
          ]
        }
      ]
    },
    {
      "cell_type": "markdown",
      "source": [
        "# Task: Implement input validation for Pay slip program\n",
        "\n",
        "- forthnightly payslip for hourly paid employee\n",
        "- pay after tax each forthnight"
      ],
      "metadata": {
        "id": "C2lOxtVxAbUf"
      },
      "id": "C2lOxtVxAbUf"
    }
  ],
  "metadata": {
    "kernelspec": {
      "display_name": "Python 3 (ipykernel)",
      "language": "python",
      "name": "python3"
    },
    "language_info": {
      "codemirror_mode": {
        "name": "ipython",
        "version": 3
      },
      "file_extension": ".py",
      "mimetype": "text/x-python",
      "name": "python",
      "nbconvert_exporter": "python",
      "pygments_lexer": "ipython3",
      "version": "3.9.6"
    },
    "colab": {
      "name": "05_input_validation.ipynb",
      "provenance": [],
      "include_colab_link": true
    }
  },
  "nbformat": 4,
  "nbformat_minor": 5
}
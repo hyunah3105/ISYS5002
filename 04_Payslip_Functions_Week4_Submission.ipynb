{
  "nbformat": 4,
  "nbformat_minor": 0,
  "metadata": {
    "colab": {
      "name": "04_Payslip_Functions_Week4_Submission.ipynb",
      "provenance": [],
      "include_colab_link": true
    },
    "kernelspec": {
      "name": "python3",
      "display_name": "Python 3"
    },
    "language_info": {
      "name": "python"
    }
  },
  "cells": [
    {
      "cell_type": "markdown",
      "metadata": {
        "id": "view-in-github",
        "colab_type": "text"
      },
      "source": [
        "<a href=\"https://colab.research.google.com/github/hyunah3105/ISYS5002/blob/main/04_Payslip_Functions_Week4_Submission.ipynb\" target=\"_parent\"><img src=\"https://colab.research.google.com/assets/colab-badge.svg\" alt=\"Open In Colab\"/></a>"
      ]
    },
    {
      "cell_type": "markdown",
      "source": [
        "# Task: Write a program to print out a payslip for hourly paid employees. <br>\n",
        "Modify the Gross pay & paylisp activities to print out a payslip for hourly paid employees.<br>Refer to week 2's Gross Pay and week 3's Payslip submission activities.\n",
        "\n",
        "[What has to be on a pay slip?](https://www.fairwork.gov.au/pay-and-wages/paying-wages/pay-slips#what-has-to-be-on-a-pay-slip)\n",
        "\n",
        "[Resident tax rates 2022–23](https://www.ato.gov.au/rates/individual-income-tax-rates/)"
      ],
      "metadata": {
        "id": "2jQsL4QPFfuG"
      }
    },
    {
      "cell_type": "markdown",
      "source": [
        "# Implement this Payslip program as functions:\n",
        "\n",
        "- Function to receive details to calculate income\n",
        "- Function to calculate income, tax payable & income after tax\n",
        "- Function to print the payslip with details: \n",
        "> employee name, hourly pay rate, hours worked, gross income, tax payable, income after tax\n",
        "\n"
      ],
      "metadata": {
        "id": "u6HZryjcFBok"
      }
    },
    {
      "cell_type": "markdown",
      "source": [
        "## Step 1: Get Income details"
      ],
      "metadata": {
        "id": "r2IUoUrsGfyW"
      }
    },
    {
      "cell_type": "code",
      "source": [
        "def get_income_details():\n",
        "  name  = input(\"Enter employee's name \")\n",
        "  Hours_worked = float(input(\"Enter the ordinary hourly rate \"))\n",
        "  Hourly_pay = float(input(\"Enter wages for ordinary hours worked \"))\n",
        "\n",
        "  gross_income = Hours_worked*Hourly_pay\n",
        "\n",
        "  # Output the calculated tax payable amount\n",
        "  print(\"hourly pay rate is \",Hourly_pay,\" and worked for\",Hours_worked,\"hours. \",name,\"'s gross income is$\", gross_income)\n",
        "  return gross_income\n"
      ],
      "metadata": {
        "id": "BQq3gCd1GVwf"
      },
      "execution_count": null,
      "outputs": []
    },
    {
      "cell_type": "markdown",
      "source": [
        "## Step 2: Calculate the income, tax payable & income after tax"
      ],
      "metadata": {
        "id": "pgt-5XVqGnWG"
      }
    },
    {
      "cell_type": "code",
      "source": [
        "def calculate_tax(gross_income):\n",
        "\n",
        "  if gross_income <= 18200:\n",
        "    tax_payable = 0\n",
        "  elif 18201 <= gross_income <= 45000:\n",
        "    tax_payable = (gross_income - 18200) *0.19\n",
        "  elif 45000 < gross_income <= 120000:\n",
        "    tax_payable = ((gross_income - 45000) *0.325) + 5092\n",
        "  elif 120001 <= gross_income <= 180000:\n",
        "    tax_payable = ((gross_income - 120000) *0.37) + 29467\n",
        "  else:\n",
        "    tax_payable = ((gross_income - 120000) *0.45) + 51667\n",
        "\n",
        "\n",
        "  return tax_payable"
      ],
      "metadata": {
        "id": "WIXvwfVVGtbM"
      },
      "execution_count": null,
      "outputs": []
    },
    {
      "cell_type": "markdown",
      "source": [
        "## Step 3: Print the payslip"
      ],
      "metadata": {
        "id": "kO2J7-wTGt-k"
      }
    },
    {
      "cell_type": "code",
      "source": [
        "def print_payslip(tax_payable):\n",
        "\n",
        "  print(\"your tax_payable is $\",tax_payable, sep='')\n",
        "  return \n"
      ],
      "metadata": {
        "id": "Q0NmbiWUG7A8"
      },
      "execution_count": null,
      "outputs": []
    },
    {
      "cell_type": "markdown",
      "metadata": {
        "id": "BNdsJ9jszwRi"
      },
      "source": [
        "## Task 2 - Complete the program"
      ]
    },
    {
      "cell_type": "code",
      "execution_count": null,
      "metadata": {
        "id": "pd8m2I1uMuAu"
      },
      "outputs": [],
      "source": [
        "# 'Main line'\n",
        "\n",
        "# Step 1 - Get details\n",
        "# Step 2 - Calculate \n",
        "# Step 3 - Output result - Print payslip\n",
        "print_payslip(calculate_tax(get_income_details()))\n"
      ]
    }
  ]
}
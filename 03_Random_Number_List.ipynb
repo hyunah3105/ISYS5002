{
  "nbformat": 4,
  "nbformat_minor": 0,
  "metadata": {
    "colab": {
      "name": "03_Random Number List.ipynb",
      "provenance": [],
      "collapsed_sections": [
        "rtiCoY2fXsOm"
      ],
      "include_colab_link": true
    },
    "kernelspec": {
      "name": "python3",
      "display_name": "Python 3"
    },
    "language_info": {
      "name": "python"
    }
  },
  "cells": [
    {
      "cell_type": "markdown",
      "metadata": {
        "id": "view-in-github",
        "colab_type": "text"
      },
      "source": [
        "<a href=\"https://colab.research.google.com/github/hyunah3105/ISYS5002/blob/main/03_Random_Number_List.ipynb\" target=\"_parent\"><img src=\"https://colab.research.google.com/assets/colab-badge.svg\" alt=\"Open In Colab\"/></a>"
      ]
    },
    {
      "cell_type": "markdown",
      "source": [
        "## Task 0: Save the notebook to Github"
      ],
      "metadata": {
        "id": "rtiCoY2fXsOm"
      }
    },
    {
      "cell_type": "markdown",
      "source": [
        "## Task 1: Randomly generate numbers and store them in a list"
      ],
      "metadata": {
        "id": "JrutiGpyXUx3"
      }
    },
    {
      "cell_type": "markdown",
      "source": [
        "Generate random numbers"
      ],
      "metadata": {
        "id": "TfbQnpvnIcni"
      }
    },
    {
      "cell_type": "code",
      "source": [
        "import random\n",
        "\n",
        "randNum = random.randint(1,2)\n",
        "print(randNum)"
      ],
      "metadata": {
        "colab": {
          "base_uri": "https://localhost:8080/",
          "height": 0
        },
        "id": "-oBG_T_-IhNq",
        "outputId": "3b65aa80-f66a-42a9-eac8-89ad2f54604b"
      },
      "execution_count": 6,
      "outputs": [
        {
          "output_type": "stream",
          "name": "stdout",
          "text": [
            "1\n"
          ]
        }
      ]
    },
    {
      "cell_type": "code",
      "source": [
        "import random\n",
        "\n",
        "randNum2 = random.randint(1,20)\n",
        "\n",
        "if randNum2%2 == 0 :\n",
        "  print(randNum2,\" is even\")\n",
        "else :\n",
        "    print(randNum2,\" is odd\")"
      ],
      "metadata": {
        "id": "ZduCTWusYA1m",
        "colab": {
          "base_uri": "https://localhost:8080/"
        },
        "outputId": "6ce43193-906c-47bd-eec5-1602eda1f09c"
      },
      "execution_count": 12,
      "outputs": [
        {
          "output_type": "stream",
          "name": "stdout",
          "text": [
            "8  is even\n"
          ]
        }
      ]
    },
    {
      "cell_type": "code",
      "source": [
        "import random\n",
        "\n",
        "list = []\n",
        "evenlist = []\n",
        "oddlist = []\n",
        "\n",
        "for item in range (1,6):\n",
        " randNum2 = random.randint(1,20)\n",
        " list.append(randNum2)\n",
        "\n",
        " if randNum2%2 == 0 :\n",
        "  print(randNum2,\" is even\")\n",
        "  evenlist.append(randNum2)\n",
        " else :\n",
        "  print(randNum2,\" is odd\")\n",
        "  oddlist.append(randNum2)\n",
        "\n",
        "print(evenlist)\n",
        "print(oddlist)"
      ],
      "metadata": {
        "id": "0F3Uk1tEMzT4"
      },
      "execution_count": null,
      "outputs": []
    },
    {
      "cell_type": "markdown",
      "source": [
        "## Optional: \n",
        "### Randomly generate numbers and store in two lists: odd and even.\n",
        "### For each list find the minimum, maximum and average"
      ],
      "metadata": {
        "id": "zjjcoEONXf23"
      }
    },
    {
      "cell_type": "code",
      "source": [
        "import random\n",
        "\n",
        "list = []\n",
        "evenlist = []\n",
        "oddlist = []\n",
        "\n",
        "for item in range (1,6):\n",
        " randNum2 = random.randint(1,20)\n",
        " list.append(randNum2)\n",
        "\n",
        " if randNum2%2 == 0 :\n",
        "  evenlist.append(randNum2)\n",
        " else :\n",
        "  oddlist.append(randNum2)\n",
        "\n",
        "print(min(evenlist))\n",
        "print(min(oddlist))"
      ],
      "metadata": {
        "colab": {
          "base_uri": "https://localhost:8080/"
        },
        "id": "UKzE9o18KS8U",
        "outputId": "8fd28cf8-6f29-46fd-cbff-c6b8de6bd210"
      },
      "execution_count": 19,
      "outputs": [
        {
          "output_type": "stream",
          "name": "stdout",
          "text": [
            "6\n",
            "15\n"
          ]
        }
      ]
    }
  ]
}
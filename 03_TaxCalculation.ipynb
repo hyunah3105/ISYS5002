{
  "nbformat": 4,
  "nbformat_minor": 0,
  "metadata": {
    "colab": {
      "name": "03_TaxCalculation.ipynb",
      "provenance": [],
      "include_colab_link": true
    },
    "kernelspec": {
      "name": "python3",
      "display_name": "Python 3"
    },
    "language_info": {
      "name": "python"
    }
  },
  "cells": [
    {
      "cell_type": "markdown",
      "metadata": {
        "id": "view-in-github",
        "colab_type": "text"
      },
      "source": [
        "<a href=\"https://colab.research.google.com/github/hyunah3105/ISYS5002/blob/main/03_TaxCalculation.ipynb\" target=\"_parent\"><img src=\"https://colab.research.google.com/assets/colab-badge.svg\" alt=\"Open In Colab\"/></a>"
      ]
    },
    {
      "cell_type": "markdown",
      "metadata": {
        "id": "bVMwNyExqHgH"
      },
      "source": [
        "# Tax Calculation\n",
        "\n",
        "Write a program the prompts the user for their income and calculates the \n",
        "tax payable based on the Australian Tax Office [Resident tax rates 2021–22\n",
        "Taxable income](https://www.ato.gov.au/rates/individual-income-tax-rates/)\n",
        "\n",
        "Income            | Tax on this income \n",
        "------------------|----------------------\n",
        "0 – \\$18,200       | Nil\n",
        "\\$18,201 – \\$45,000 | 19 cents for each \\$1 over \\$18,200\n",
        "\\$45,001 – \\$120,000 | \\$5,092 plus 32.5 cents for each \\$1 over \\$45,000\n",
        "\\$120,001 – \\$180,000 |  \\$29,467 plus 37 cents for each \\$1 over \\$120,000\n",
        "\\$180,001 and over | \\$51,667 plus 45 cents for each \\$1 over \\$180,000\n",
        "\n",
        "## Task 0 - Import notebook to GitHub\n",
        "\n",
        "First, import the notebook into Colab and save an initial copy to GitHub."
      ]
    },
    {
      "cell_type": "markdown",
      "source": [
        "# Task 1: Analyse the requirement and Design a solution\n",
        "\n",
        "Following the 6-steps problem solving process, when you analyse the requiremnts and design the solution, you will end up with an algorithm/pseudocode \n",
        "\n",
        "1. State the problem clearly\n",
        "2. Describe the input and output information\n",
        "3. Work the problem by hand\n",
        "4. Develop an algorithm / pseudocode\n",
        "\n",
        "\n",
        "\n",
        "\n"
      ],
      "metadata": {
        "id": "HgnNYcBrEOKa"
      }
    },
    {
      "cell_type": "markdown",
      "source": [
        ""
      ],
      "metadata": {
        "id": "OZijiHhdHSxd"
      }
    },
    {
      "cell_type": "markdown",
      "source": [
        "1. problem is that tax is increased based on income\n",
        "2. input: income, base tax to be increased and its different increastion on how much people received income   \n",
        "   output: calculated tax\n",
        "   processing between input and output "
      ],
      "metadata": {
        "id": "7V3RN_lF4oRU"
      }
    },
    {
      "cell_type": "markdown",
      "source": [
        "# Task 2: Step 5 - Convert the pseudocode to Python Code"
      ],
      "metadata": {
        "id": "Gqexk_N7F0mb"
      }
    },
    {
      "cell_type": "code",
      "source": [
        "income = int(input(\"put your income\"))   #converting to float\n",
        "tax = 0\n",
        "\n",
        "if income < 18200 :\n",
        "  tax = 0\n",
        "elif 18201 <= income <= 45000 :   # 18201<= income or income <= 45000\n",
        "  tax = 0.19 * (income-18200)\n",
        "  # print(\"your income = $\",income,\"your tax = $\",tax) ->  if income is between this, it's going to print twice at the end of logic\n",
        "elif 45001 <= income <= 120000 :\n",
        "  tax = (0.325 * (income-45000))+ 5092\n",
        "elif 120001 <= income <= 180000 :\n",
        "  tax = (0.37 * (income-120000))+ 29467\n",
        "else :\n",
        "    tax = (0.45 * (income-120000))+ 51667\n",
        "\n",
        "print(\"your income = $\",income,\"your tax = $\",tax)\n"
      ],
      "metadata": {
        "id": "kuwq-dEPF6Xi",
        "colab": {
          "base_uri": "https://localhost:8080/"
        },
        "outputId": "20d8ab3c-5cb5-437d-fb47-61f374d4ab04"
      },
      "execution_count": 8,
      "outputs": [
        {
          "output_type": "stream",
          "name": "stdout",
          "text": [
            "put your income20000\n",
            "your income = $ 20000 your tax = $ 342.0\n"
          ]
        }
      ]
    },
    {
      "cell_type": "markdown",
      "source": [
        "# Task 3: Step 6 - Test solution with a variety of data"
      ],
      "metadata": {
        "id": "tSe9XLLuF632"
      }
    },
    {
      "cell_type": "markdown",
      "source": [
        "# Task 4: Homework submission\n",
        "\n",
        "Write a program to print out a payslip for hourly paid employees. <br>\n",
        "Refer to last week's Gross Pay work.\n",
        "\n",
        "[What has to be on a pay slip?](https://www.fairwork.gov.au/pay-and-wages/paying-wages/pay-slips#what-has-to-be-on-a-pay-slip)\n",
        "\n",
        "[Resident tax rates 2022–23](https://www.ato.gov.au/rates/individual-income-tax-rates/)"
      ],
      "metadata": {
        "id": "FGccPDhDGHgF"
      }
    }
  ]
}